{
  "cells": [
    {
      "cell_type": "markdown",
      "metadata": {
        "id": "view-in-github",
        "colab_type": "text"
      },
      "source": [
        "<a href=\"https://colab.research.google.com/github/Robot99lml/Credit_Scoring/blob/main/introduccion/conociendo_el_RCC.ipynb\" target=\"_parent\"><img src=\"https://colab.research.google.com/assets/colab-badge.svg\" alt=\"Open In Colab\"/></a>"
      ]
    },
    {
      "cell_type": "markdown",
      "source": [
        "\n",
        "<h1 align=center><font size = 5>Conociendo el Reporte Crediticio Consolidado\n",
        "</font></h1>\n",
        "\n",
        "---"
      ],
      "metadata": {
        "id": "3Du8895gj8Jy"
      }
    },
    {
      "cell_type": "markdown",
      "source": [
        "## Introducción\n",
        "\n",
        "En este laboratorio, aprenderá a realizar consultas básicas sobre la información de la <b>RCC</b>.\n",
        "\n"
      ],
      "metadata": {
        "id": "ngavOJ7ikQEE"
      }
    },
    {
      "cell_type": "markdown",
      "source": [
        "## Leyendo la base de datos\n"
      ],
      "metadata": {
        "id": "Clzk_Oq9kZd_"
      }
    },
    {
      "cell_type": "code",
      "execution_count": 1,
      "metadata": {
        "id": "2m54uX5rPBWv"
      },
      "outputs": [],
      "source": [
        "import pandas as pd"
      ]
    },
    {
      "cell_type": "markdown",
      "source": [
        "## Limpieza y transformación de RCC\n",
        "Transformación de campos del archivo RCC."
      ],
      "metadata": {
        "id": "7ZBEB9g_SLkD"
      }
    },
    {
      "cell_type": "code",
      "source": [
        "class CleaningRcc():\n",
        "  def __init__(self):\n",
        "    self.rcc_url = 'https://raw.githubusercontent.com/Robot99lml/Credit_Scoring/main/RCC_202206.csv'\n",
        "    self.data_types = {\n",
        "      'codsbs': str,\n",
        "      'tipcreditosbs': str,\n",
        "      'codempsistemafinancierodeuda': str,\n",
        "      'codctacontablesbs': str,\n",
        "      'codmoneda': str,\n",
        "      'tipcondiciondiamorosidad': float,\n",
        "      'mtodeudasol': float,\n",
        "      'tipclasifriesgoempsistemafinan': str,\n",
        "      'codrubroicc': str,\n",
        "      'codmes': str\n",
        "    }\n",
        "    self.transform()\n",
        "\n",
        "  def transform(self):\n",
        "    rcc_df = pd.read_csv(self.rcc_url)\n",
        "    self.rcc_df = rcc_df.astype(self.data_types)"
      ],
      "metadata": {
        "id": "RHrmApGqV81C"
      },
      "execution_count": 2,
      "outputs": []
    },
    {
      "cell_type": "markdown",
      "source": [
        "## Procesamiento de RCC\n",
        "\n",
        "Clase genérica para poder identificar diferentes filtros los digitos de la cuenta."
      ],
      "metadata": {
        "id": "KkGpcSzTSSGE"
      }
    },
    {
      "cell_type": "code",
      "source": [
        "class Rcc(CleaningRcc):\n",
        "  def __init__(self, input: object):\n",
        "    super().__init__()\n",
        "    self.input = input\n",
        "    self.process()\n",
        "\n",
        "  def process(self):\n",
        "    try:\n",
        "      for field in self.input.keys():\n",
        "        match field:\n",
        "          case 'category_id':\n",
        "            if self.input[field] != None:\n",
        "              self.rcc_df = self.rcc_df[self.rcc_df[\"codctacontablesbs\"].str[:2].isin(self.input[field])]\n",
        "          case 'currency_id':\n",
        "            if self.input[field] != None:\n",
        "              self.rcc_df = self.rcc_df[self.rcc_df[\"codctacontablesbs\"].str[2:3].isin(self.input[field])]\n",
        "          case'credit_condition_id':\n",
        "            if self.input[field] != None:\n",
        "              self.rcc_df = self.rcc_df[self.rcc_df[\"codctacontablesbs\"].str[3:4].isin(self.input[field])]\n",
        "          case 'sector_id':\n",
        "            if self.input[field] != None:\n",
        "              self.rcc_df = self.rcc_df[self.rcc_df[\"codctacontablesbs\"].str[4:6].isin(self.input[field])]\n",
        "          case 'product_id':\n",
        "            if self.input[field] != None:\n",
        "              self.rcc_df = self.rcc_df[self.rcc_df[\"codctacontablesbs\"].str[6:8].isin(self.input[field])]\n",
        "          case 'sub_product_id':\n",
        "            if self.input[field] != None:\n",
        "              self.rcc_df = self.rcc_df[self.rcc_df[\"codctacontablesbs\"].str[8:10].isin(self.input[field])]\n",
        "    except Exception as e:\n",
        "      return e"
      ],
      "metadata": {
        "id": "shSsNNlNsFZI"
      },
      "execution_count": 3,
      "outputs": []
    },
    {
      "cell_type": "markdown",
      "source": [
        "## Instancia de Clase\n",
        "Extraiga las deudas correspondientes a créditos vigentes de tipo Hipotecario"
      ],
      "metadata": {
        "id": "8gHQ55eITLCM"
      }
    },
    {
      "cell_type": "code",
      "source": [
        "rcc = Rcc(input = {\n",
        "    'category_id': ['14'],\n",
        "    'currency_id': None,\n",
        "    'credit_condition_id': ['1'],\n",
        "    'sector_id': ['04'],\n",
        "    'product_id': None,\n",
        "    'sub_product_id': None\n",
        "})"
      ],
      "metadata": {
        "id": "REe0CRcUccDT"
      },
      "execution_count": 4,
      "outputs": []
    },
    {
      "cell_type": "code",
      "source": [
        "rcc.rcc_df"
      ],
      "metadata": {
        "colab": {
          "base_uri": "https://localhost:8080/",
          "height": 237
        },
        "id": "Vh6roxoYp9xf",
        "outputId": "0b89462e-faef-4b47-fd95-3453071c1285"
      },
      "execution_count": 5,
      "outputs": [
        {
          "output_type": "execute_result",
          "data": {
            "text/plain": [
              "         codsbs tipcreditosbs codempsistemafinancierodeuda codctacontablesbs  \\\n",
              "2525   59890603            13                            4    14110406010000   \n",
              "6369   59890603            13                            4    14110406010000   \n",
              "10315  59890603            13                            4    14110406010000   \n",
              "10414  59890603            13                            4    14110406010000   \n",
              "16767  59890603            13                            4    14110406010000   \n",
              "17707  59890603            13                            4    14110406010000   \n",
              "\n",
              "      codmoneda  tipcondiciondiamorosidad  mtodeudasol  \\\n",
              "2525          1                       0.0    255265.67   \n",
              "6369          1                       0.0    254123.32   \n",
              "10315         1                       0.0    252830.61   \n",
              "10414         1                       0.0    250463.83   \n",
              "16767         1                       0.0    251721.74   \n",
              "17707         1                       0.0    249293.48   \n",
              "\n",
              "      tipclasifriesgoempsistemafinan codrubroicc  codmes  \n",
              "2525                               0           4  202201  \n",
              "6369                               0           4  202202  \n",
              "10315                              0           4  202203  \n",
              "10414                              0           4  202205  \n",
              "16767                              0           4  202204  \n",
              "17707                              0           4  202206  "
            ],
            "text/html": [
              "\n",
              "\n",
              "  <div id=\"df-8b520cc9-adb0-410d-a521-57a456d6d8c1\">\n",
              "    <div class=\"colab-df-container\">\n",
              "      <div>\n",
              "<style scoped>\n",
              "    .dataframe tbody tr th:only-of-type {\n",
              "        vertical-align: middle;\n",
              "    }\n",
              "\n",
              "    .dataframe tbody tr th {\n",
              "        vertical-align: top;\n",
              "    }\n",
              "\n",
              "    .dataframe thead th {\n",
              "        text-align: right;\n",
              "    }\n",
              "</style>\n",
              "<table border=\"1\" class=\"dataframe\">\n",
              "  <thead>\n",
              "    <tr style=\"text-align: right;\">\n",
              "      <th></th>\n",
              "      <th>codsbs</th>\n",
              "      <th>tipcreditosbs</th>\n",
              "      <th>codempsistemafinancierodeuda</th>\n",
              "      <th>codctacontablesbs</th>\n",
              "      <th>codmoneda</th>\n",
              "      <th>tipcondiciondiamorosidad</th>\n",
              "      <th>mtodeudasol</th>\n",
              "      <th>tipclasifriesgoempsistemafinan</th>\n",
              "      <th>codrubroicc</th>\n",
              "      <th>codmes</th>\n",
              "    </tr>\n",
              "  </thead>\n",
              "  <tbody>\n",
              "    <tr>\n",
              "      <th>2525</th>\n",
              "      <td>59890603</td>\n",
              "      <td>13</td>\n",
              "      <td>4</td>\n",
              "      <td>14110406010000</td>\n",
              "      <td>1</td>\n",
              "      <td>0.0</td>\n",
              "      <td>255265.67</td>\n",
              "      <td>0</td>\n",
              "      <td>4</td>\n",
              "      <td>202201</td>\n",
              "    </tr>\n",
              "    <tr>\n",
              "      <th>6369</th>\n",
              "      <td>59890603</td>\n",
              "      <td>13</td>\n",
              "      <td>4</td>\n",
              "      <td>14110406010000</td>\n",
              "      <td>1</td>\n",
              "      <td>0.0</td>\n",
              "      <td>254123.32</td>\n",
              "      <td>0</td>\n",
              "      <td>4</td>\n",
              "      <td>202202</td>\n",
              "    </tr>\n",
              "    <tr>\n",
              "      <th>10315</th>\n",
              "      <td>59890603</td>\n",
              "      <td>13</td>\n",
              "      <td>4</td>\n",
              "      <td>14110406010000</td>\n",
              "      <td>1</td>\n",
              "      <td>0.0</td>\n",
              "      <td>252830.61</td>\n",
              "      <td>0</td>\n",
              "      <td>4</td>\n",
              "      <td>202203</td>\n",
              "    </tr>\n",
              "    <tr>\n",
              "      <th>10414</th>\n",
              "      <td>59890603</td>\n",
              "      <td>13</td>\n",
              "      <td>4</td>\n",
              "      <td>14110406010000</td>\n",
              "      <td>1</td>\n",
              "      <td>0.0</td>\n",
              "      <td>250463.83</td>\n",
              "      <td>0</td>\n",
              "      <td>4</td>\n",
              "      <td>202205</td>\n",
              "    </tr>\n",
              "    <tr>\n",
              "      <th>16767</th>\n",
              "      <td>59890603</td>\n",
              "      <td>13</td>\n",
              "      <td>4</td>\n",
              "      <td>14110406010000</td>\n",
              "      <td>1</td>\n",
              "      <td>0.0</td>\n",
              "      <td>251721.74</td>\n",
              "      <td>0</td>\n",
              "      <td>4</td>\n",
              "      <td>202204</td>\n",
              "    </tr>\n",
              "    <tr>\n",
              "      <th>17707</th>\n",
              "      <td>59890603</td>\n",
              "      <td>13</td>\n",
              "      <td>4</td>\n",
              "      <td>14110406010000</td>\n",
              "      <td>1</td>\n",
              "      <td>0.0</td>\n",
              "      <td>249293.48</td>\n",
              "      <td>0</td>\n",
              "      <td>4</td>\n",
              "      <td>202206</td>\n",
              "    </tr>\n",
              "  </tbody>\n",
              "</table>\n",
              "</div>\n",
              "      <button class=\"colab-df-convert\" onclick=\"convertToInteractive('df-8b520cc9-adb0-410d-a521-57a456d6d8c1')\"\n",
              "              title=\"Convert this dataframe to an interactive table.\"\n",
              "              style=\"display:none;\">\n",
              "\n",
              "  <svg xmlns=\"http://www.w3.org/2000/svg\" height=\"24px\"viewBox=\"0 0 24 24\"\n",
              "       width=\"24px\">\n",
              "    <path d=\"M0 0h24v24H0V0z\" fill=\"none\"/>\n",
              "    <path d=\"M18.56 5.44l.94 2.06.94-2.06 2.06-.94-2.06-.94-.94-2.06-.94 2.06-2.06.94zm-11 1L8.5 8.5l.94-2.06 2.06-.94-2.06-.94L8.5 2.5l-.94 2.06-2.06.94zm10 10l.94 2.06.94-2.06 2.06-.94-2.06-.94-.94-2.06-.94 2.06-2.06.94z\"/><path d=\"M17.41 7.96l-1.37-1.37c-.4-.4-.92-.59-1.43-.59-.52 0-1.04.2-1.43.59L10.3 9.45l-7.72 7.72c-.78.78-.78 2.05 0 2.83L4 21.41c.39.39.9.59 1.41.59.51 0 1.02-.2 1.41-.59l7.78-7.78 2.81-2.81c.8-.78.8-2.07 0-2.86zM5.41 20L4 18.59l7.72-7.72 1.47 1.35L5.41 20z\"/>\n",
              "  </svg>\n",
              "      </button>\n",
              "\n",
              "\n",
              "\n",
              "    <div id=\"df-87c16225-8346-4512-8877-0e9ae93f59a2\">\n",
              "      <button class=\"colab-df-quickchart\" onclick=\"quickchart('df-87c16225-8346-4512-8877-0e9ae93f59a2')\"\n",
              "              title=\"Suggest charts.\"\n",
              "              style=\"display:none;\">\n",
              "\n",
              "<svg xmlns=\"http://www.w3.org/2000/svg\" height=\"24px\"viewBox=\"0 0 24 24\"\n",
              "     width=\"24px\">\n",
              "    <g>\n",
              "        <path d=\"M19 3H5c-1.1 0-2 .9-2 2v14c0 1.1.9 2 2 2h14c1.1 0 2-.9 2-2V5c0-1.1-.9-2-2-2zM9 17H7v-7h2v7zm4 0h-2V7h2v10zm4 0h-2v-4h2v4z\"/>\n",
              "    </g>\n",
              "</svg>\n",
              "      </button>\n",
              "    </div>\n",
              "\n",
              "<style>\n",
              "  .colab-df-quickchart {\n",
              "    background-color: #E8F0FE;\n",
              "    border: none;\n",
              "    border-radius: 50%;\n",
              "    cursor: pointer;\n",
              "    display: none;\n",
              "    fill: #1967D2;\n",
              "    height: 32px;\n",
              "    padding: 0 0 0 0;\n",
              "    width: 32px;\n",
              "  }\n",
              "\n",
              "  .colab-df-quickchart:hover {\n",
              "    background-color: #E2EBFA;\n",
              "    box-shadow: 0px 1px 2px rgba(60, 64, 67, 0.3), 0px 1px 3px 1px rgba(60, 64, 67, 0.15);\n",
              "    fill: #174EA6;\n",
              "  }\n",
              "\n",
              "  [theme=dark] .colab-df-quickchart {\n",
              "    background-color: #3B4455;\n",
              "    fill: #D2E3FC;\n",
              "  }\n",
              "\n",
              "  [theme=dark] .colab-df-quickchart:hover {\n",
              "    background-color: #434B5C;\n",
              "    box-shadow: 0px 1px 3px 1px rgba(0, 0, 0, 0.15);\n",
              "    filter: drop-shadow(0px 1px 2px rgba(0, 0, 0, 0.3));\n",
              "    fill: #FFFFFF;\n",
              "  }\n",
              "</style>\n",
              "\n",
              "    <script>\n",
              "      async function quickchart(key) {\n",
              "        const containerElement = document.querySelector('#' + key);\n",
              "        const charts = await google.colab.kernel.invokeFunction(\n",
              "            'suggestCharts', [key], {});\n",
              "      }\n",
              "    </script>\n",
              "\n",
              "\n",
              "      <script>\n",
              "\n",
              "function displayQuickchartButton(domScope) {\n",
              "  let quickchartButtonEl =\n",
              "    domScope.querySelector('#df-87c16225-8346-4512-8877-0e9ae93f59a2 button.colab-df-quickchart');\n",
              "  quickchartButtonEl.style.display =\n",
              "    google.colab.kernel.accessAllowed ? 'block' : 'none';\n",
              "}\n",
              "\n",
              "        displayQuickchartButton(document);\n",
              "      </script>\n",
              "      <style>\n",
              "    .colab-df-container {\n",
              "      display:flex;\n",
              "      flex-wrap:wrap;\n",
              "      gap: 12px;\n",
              "    }\n",
              "\n",
              "    .colab-df-convert {\n",
              "      background-color: #E8F0FE;\n",
              "      border: none;\n",
              "      border-radius: 50%;\n",
              "      cursor: pointer;\n",
              "      display: none;\n",
              "      fill: #1967D2;\n",
              "      height: 32px;\n",
              "      padding: 0 0 0 0;\n",
              "      width: 32px;\n",
              "    }\n",
              "\n",
              "    .colab-df-convert:hover {\n",
              "      background-color: #E2EBFA;\n",
              "      box-shadow: 0px 1px 2px rgba(60, 64, 67, 0.3), 0px 1px 3px 1px rgba(60, 64, 67, 0.15);\n",
              "      fill: #174EA6;\n",
              "    }\n",
              "\n",
              "    [theme=dark] .colab-df-convert {\n",
              "      background-color: #3B4455;\n",
              "      fill: #D2E3FC;\n",
              "    }\n",
              "\n",
              "    [theme=dark] .colab-df-convert:hover {\n",
              "      background-color: #434B5C;\n",
              "      box-shadow: 0px 1px 3px 1px rgba(0, 0, 0, 0.15);\n",
              "      filter: drop-shadow(0px 1px 2px rgba(0, 0, 0, 0.3));\n",
              "      fill: #FFFFFF;\n",
              "    }\n",
              "  </style>\n",
              "\n",
              "      <script>\n",
              "        const buttonEl =\n",
              "          document.querySelector('#df-8b520cc9-adb0-410d-a521-57a456d6d8c1 button.colab-df-convert');\n",
              "        buttonEl.style.display =\n",
              "          google.colab.kernel.accessAllowed ? 'block' : 'none';\n",
              "\n",
              "        async function convertToInteractive(key) {\n",
              "          const element = document.querySelector('#df-8b520cc9-adb0-410d-a521-57a456d6d8c1');\n",
              "          const dataTable =\n",
              "            await google.colab.kernel.invokeFunction('convertToInteractive',\n",
              "                                                     [key], {});\n",
              "          if (!dataTable) return;\n",
              "\n",
              "          const docLinkHtml = 'Like what you see? Visit the ' +\n",
              "            '<a target=\"_blank\" href=https://colab.research.google.com/notebooks/data_table.ipynb>data table notebook</a>'\n",
              "            + ' to learn more about interactive tables.';\n",
              "          element.innerHTML = '';\n",
              "          dataTable['output_type'] = 'display_data';\n",
              "          await google.colab.output.renderOutput(dataTable, element);\n",
              "          const docLink = document.createElement('div');\n",
              "          docLink.innerHTML = docLinkHtml;\n",
              "          element.appendChild(docLink);\n",
              "        }\n",
              "      </script>\n",
              "    </div>\n",
              "  </div>\n"
            ]
          },
          "metadata": {},
          "execution_count": 5
        }
      ]
    },
    {
      "cell_type": "markdown",
      "source": [
        "---\n",
        "## Gracias por completar este laboratorio!"
      ],
      "metadata": {
        "id": "LCaKI-itkj8b"
      }
    }
  ],
  "metadata": {
    "colab": {
      "provenance": [],
      "include_colab_link": true
    },
    "kernelspec": {
      "display_name": "Python 3",
      "name": "python3"
    },
    "language_info": {
      "name": "python"
    }
  },
  "nbformat": 4,
  "nbformat_minor": 0
}